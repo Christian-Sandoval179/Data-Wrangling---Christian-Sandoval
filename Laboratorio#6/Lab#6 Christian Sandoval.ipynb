{
  "nbformat": 4,
  "nbformat_minor": 0,
  "metadata": {
    "colab": {
      "provenance": []
    },
    "kernelspec": {
      "name": "python3",
      "display_name": "Python 3"
    },
    "language_info": {
      "name": "python"
    }
  },
  "cells": [
    {
      "cell_type": "markdown",
      "source": [
        "LABORATORIO#6 --- EXPRESIONES REGULARES\n",
        "CHRISTIAN SANDOVAL -- 20210393\n",
        "DATA WRANGLING"
      ],
      "metadata": {
        "id": "udjRnoKAXh2b"
      }
    },
    {
      "cell_type": "code",
      "execution_count": null,
      "metadata": {
        "id": "uQJ2JkygXeP1"
      },
      "outputs": [],
      "source": [
        "import re"
      ]
    },
    {
      "cell_type": "markdown",
      "source": [
        "Inciso#1 → Expresion regular que detecte una placa de un vehiculo particular de Guatemala\n"
      ],
      "metadata": {
        "id": "nQKyNDsjX2Ox"
      }
    },
    {
      "cell_type": "code",
      "source": [
        "string_placa = \"P589GDV\"\n",
        "detectar = \"^P\\d{3}[A-Z]{3}$|^P-\\d{3}[A-Z]{3}$\"\n",
        "re.findall(detectar,string_placa)"
      ],
      "metadata": {
        "colab": {
          "base_uri": "https://localhost:8080/"
        },
        "id": "MOIZX3wYX-4U",
        "outputId": "992c14cf-4548-4f11-c3db-21601f3d5c27"
      },
      "execution_count": null,
      "outputs": [
        {
          "output_type": "execute_result",
          "data": {
            "text/plain": [
              "['P589GDV']"
            ]
          },
          "metadata": {},
          "execution_count": 109
        }
      ]
    },
    {
      "cell_type": "markdown",
      "source": [
        "Inciso#2 → Expresion regular que valide si el archivo es de tipo .pdf ó .jpg"
      ],
      "metadata": {
        "id": "TyEG3Gq7blw6"
      }
    },
    {
      "cell_type": "code",
      "source": [
        "string_archivo = \"imagen.PDF\"\n",
        "detectar = \".pdf$|.jpg$|.PDF$|.JPG$\"\n",
        "re.findall(detectar,string_archivo)"
      ],
      "metadata": {
        "colab": {
          "base_uri": "https://localhost:8080/"
        },
        "id": "yD6EgrsbaDPn",
        "outputId": "8930f516-bf93-4e28-d5ca-d6d22cefb4b6"
      },
      "execution_count": null,
      "outputs": [
        {
          "output_type": "execute_result",
          "data": {
            "text/plain": [
              "['.PDF']"
            ]
          },
          "metadata": {},
          "execution_count": 14
        }
      ]
    },
    {
      "cell_type": "markdown",
      "source": [
        "Inciso#3 → Expresion regular para validar contraseñas de correo"
      ],
      "metadata": {
        "id": "ab_ds8uCccDZ"
      }
    },
    {
      "cell_type": "code",
      "source": [
        "string_archivo = \"Contraseña#01\"\n",
        "detectar = \"^(?=.*[A-Z])(?=.*[!@#$%^&*()_+|~-]).{8,}$\"\n",
        "re.findall(detectar,string_archivo)"
      ],
      "metadata": {
        "colab": {
          "base_uri": "https://localhost:8080/"
        },
        "id": "s0imwQjad2TL",
        "outputId": "e39fb2c8-da7a-4b86-f2c1-e26c2d5d1ab7"
      },
      "execution_count": null,
      "outputs": [
        {
          "output_type": "execute_result",
          "data": {
            "text/plain": [
              "['Contraseña#01']"
            ]
          },
          "metadata": {},
          "execution_count": 144
        }
      ]
    },
    {
      "cell_type": "markdown",
      "source": [
        "Inciso#4 → Expresion regular que valide carnet de la Universidad Galileo"
      ],
      "metadata": {
        "id": "SY31SXLIfJyS"
      }
    },
    {
      "cell_type": "code",
      "source": [
        "string_carnet = \"21001219\"\n",
        "detectar = \"^(0[1-9]|1\\d|2[0-9]|30)00(1[1-9]{3}|[2-7]\\d{3}|89[0-7]0)$\"\n",
        "re.findall(detectar,string_carnet)"
      ],
      "metadata": {
        "colab": {
          "base_uri": "https://localhost:8080/"
        },
        "id": "3DtDHYU-gM2z",
        "outputId": "4ea57b6f-6cd8-41e9-9aec-6956e2e5b76c"
      },
      "execution_count": 19,
      "outputs": [
        {
          "output_type": "execute_result",
          "data": {
            "text/plain": [
              "[('21', '1219')]"
            ]
          },
          "metadata": {},
          "execution_count": 19
        }
      ]
    },
    {
      "cell_type": "markdown",
      "source": [
        "Inciso#5 → Expresion Regular que encuentre las palabras de la primera linea pero no de la segunda\n"
      ],
      "metadata": {
        "id": "wL7bHTXShTw3"
      }
    },
    {
      "cell_type": "code",
      "source": [
        "string_leer = \"pit spot  spate slap two respite pt Pot peat part\"\n",
        "leer = \"(pit|spot|spate|slap two|respite)\"\n",
        "re.findall(leer,string_leer)"
      ],
      "metadata": {
        "colab": {
          "base_uri": "https://localhost:8080/"
        },
        "id": "RYk8Iw5fjhk4",
        "outputId": "2479cca6-4f25-4024-8f08-382837175746"
      },
      "execution_count": null,
      "outputs": [
        {
          "output_type": "execute_result",
          "data": {
            "text/plain": [
              "['pit', 'spot', 'spate', 'slap two', 'respite']"
            ]
          },
          "metadata": {},
          "execution_count": 39
        }
      ]
    },
    {
      "cell_type": "markdown",
      "source": [
        "Inciso#6 → Expresion Regular Para obtener numeros telefonicos de Guatemala , tomando en cuenta las instrucciones dadas en el lab"
      ],
      "metadata": {
        "id": "yip5O43zkKeD"
      }
    },
    {
      "cell_type": "code",
      "source": [
        "string_telefono = \"+502-5892-0698\"\n",
        "#detectar = \"^\\W\\d{3}|^\\W\\d{3}\\W|^502\\W|^502|5[0-9]\\d{2}\\s\\d{4}|5[0-9]\\d{2}\\d{4}|4[0-9]\\d{2}\\s\\d{4}|4[0-9]\\d{2}\\d{4}|6[0-9]\\d{2}\\s\\d{4}|6[0-9]\\d{2}\\d{4}|2[0-9]\\d{2}\\s\\d{4}|2[0-9]\\d{2}\\d{4}\"\n",
        "detectar2  = \"^(?:\\+502|502)?[-\\s]?[4-6|2]\\d{2,3}[-\\s]?\\d{4}$\"\n",
        "re.findall(detectar2, string_telefono)"
      ],
      "metadata": {
        "colab": {
          "base_uri": "https://localhost:8080/"
        },
        "id": "t3ph5T2rkTX6",
        "outputId": "e94b16ef-1b14-43dd-c4db-90244b3394dd"
      },
      "execution_count": 88,
      "outputs": [
        {
          "output_type": "execute_result",
          "data": {
            "text/plain": [
              "['+502-5892-0698']"
            ]
          },
          "metadata": {},
          "execution_count": 88
        }
      ]
    },
    {
      "cell_type": "markdown",
      "source": [
        "Inciso#7 → Expresion Regular que obtenga correos de la ufm"
      ],
      "metadata": {
        "id": "ofAxI2j2glyD"
      }
    },
    {
      "cell_type": "code",
      "source": [
        "string_correo = \"christiansandoval@ufm.edu\"\n",
        "detectar = \"@ufm.edu$\"\n",
        "re.findall(detectar,string_correo)"
      ],
      "metadata": {
        "colab": {
          "base_uri": "https://localhost:8080/"
        },
        "id": "RNioSSt2gvyq",
        "outputId": "24a0a688-377c-4911-b005-550145ca9a98"
      },
      "execution_count": null,
      "outputs": [
        {
          "output_type": "execute_result",
          "data": {
            "text/plain": [
              "['@ufm.edu']"
            ]
          },
          "metadata": {},
          "execution_count": 27
        }
      ]
    },
    {
      "cell_type": "markdown",
      "source": [
        "Inciso#8 → Expresion regular para validar identificador unico"
      ],
      "metadata": {
        "id": "Bs40S3RXc692"
      }
    },
    {
      "cell_type": "code",
      "source": [
        "string_id = \"fyg123456789LHF\"\n",
        "detectar = \"^[a-z]{0,3}\\d{2,9}[A-Z]{3,}$\"\n",
        "re.findall(detectar, string_id)"
      ],
      "metadata": {
        "colab": {
          "base_uri": "https://localhost:8080/"
        },
        "id": "9aF2H7aAdHy_",
        "outputId": "94fb5441-c4c4-45de-845a-a104f07ac212"
      },
      "execution_count": null,
      "outputs": [
        {
          "output_type": "execute_result",
          "data": {
            "text/plain": [
              "['fyg123456789LHF']"
            ]
          },
          "metadata": {},
          "execution_count": 13
        }
      ]
    }
  ]
}